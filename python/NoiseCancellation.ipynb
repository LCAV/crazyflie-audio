{
 "cells": [
  {
   "cell_type": "code",
   "execution_count": null,
   "metadata": {},
   "outputs": [],
   "source": [
    "import math\n",
    "import sys\n",
    "\n",
    "sys.path.append(\"../\")\n",
    "\n",
    "import IPython\n",
    "import IPython.display as ipd\n",
    "import matplotlib.pylab as plt\n",
    "import numpy as np\n",
    "\n",
    "from constants import SPEED_OF_SOUND\n",
    "\n",
    "%reload_ext autoreload\n",
    "%autoreload 2\n",
    "\n",
    "%matplotlib inline\n",
    "#%matplotlib notebook\n",
    "\n",
    "np.random.seed(1)\n",
    "\n",
    "def custom_save(function=plt.savefig, fname=\"\"):\n",
    "    if not os.path.exists(os.path.dirname(fname)):\n",
    "        os.makedirs(os.path.dirname(fname))\n",
    "        print('created new directory', os.path.dirname(fname))\n",
    "    try:\n",
    "        # to make sure suptitle is not cut off\n",
    "        function(fname, bbox_inches=\"tight\")\n",
    "    except:\n",
    "        function(fname)\n",
    "    print(\"saved as\", fname)\n",
    "\n",
    "from matplotlib import rcParams\n",
    "rcParams[\"figure.max_open_warning\"] = False"
   ]
  },
  {
   "cell_type": "code",
   "execution_count": null,
   "metadata": {},
   "outputs": [],
   "source": [
    "from file_parser import read_recordings, parameters\n",
    "\n",
    "#dir_name = \"recordings_9_7_20\"  # audio shield measurements with buffer length 256, only 200Hz source\n",
    "#dir_name = \"recordings_14_7_20\"  # audio shield measurements with buffer length 8060, only 200Hz source\n",
    "dir_name = \"recordings_16_7_20\"  # recordings with measurement mics, 200Hz and white_noise source\n",
    "\n",
    "source = \"200Hz\"\n",
    "#source = \"white_noise\"\n",
    "\n",
    "loudness = \"high\"\n",
    "#loudness = \"normal\"\n",
    "#loudness = \"low\"\n",
    "\n",
    "gt_degrees = 0 # rotation of drone with respect to source.\n",
    "#gt_degrees = 20 # rotation of drone with respect to source.\n",
    "#gt_degrees = 40 # rotation of drone with respect to source.\n",
    "\n",
    "signals_props, signals_source, signals_all = read_recordings(dir_name,\n",
    "                                                             loudness,\n",
    "                                                             gt_degrees,\n",
    "                                                             source)\n",
    "params = parameters[dir_name]\n",
    "Fs = params['Fs']\n",
    "time_index = params['time_index']\n",
    "\n",
    "mic_idx = [0]\n",
    "mic_idx = range(4)\n",
    "#n_buffer = 2**10\n",
    "n_buffer = signals_props.shape[1] // 2\n",
    "#n_buffer = 256\n",
    "assert n_buffer <= signals_props.shape[1]\n",
    "print(f'length of signal: {n_buffer / Fs:.2f}s')\n",
    "buffer_props = signals_props[mic_idx, time_index:time_index+n_buffer]\n",
    "buffer_source = signals_source[mic_idx, time_index:time_index+n_buffer]\n",
    "buffer_all = signals_all[mic_idx, time_index:time_index+n_buffer]"
   ]
  },
  {
   "cell_type": "code",
   "execution_count": null,
   "metadata": {},
   "outputs": [],
   "source": [
    "from plotting_beamform import plot_signals, get_max_bins\n",
    "\n",
    "freqs = np.fft.rfftfreq(n_buffer, d=1/Fs)\n",
    "\n",
    "max_bins = get_max_bins(buffer_props)\n",
    "plot_signals(buffer_props, Fs=Fs, plot_frequencies=freqs[max_bins])\n",
    "plt.title('propeller signal')\n",
    "max_bins = get_max_bins(buffer_source)\n",
    "plot_signals(buffer_source, Fs=Fs, plot_frequencies=freqs[max_bins]) \n",
    "plt.title('source signal')\n",
    "max_bins = get_max_bins(buffer_all)\n",
    "plot_signals(buffer_all, Fs=Fs, plot_frequencies=freqs[max_bins])\n",
    "plt.title('combined signal')"
   ]
  },
  {
   "cell_type": "code",
   "execution_count": null,
   "metadata": {},
   "outputs": [],
   "source": [
    "ipd.Audio(data=buffer_props, rate=Fs, normalize=True)"
   ]
  },
  {
   "cell_type": "code",
   "execution_count": null,
   "metadata": {},
   "outputs": [],
   "source": [
    "ipd.Audio(data=buffer_all, rate=Fs, normalize=True)"
   ]
  },
  {
   "cell_type": "code",
   "execution_count": null,
   "metadata": {},
   "outputs": [],
   "source": [
    "ipd.Audio(data=buffer_source, rate=Fs, normalize=True)"
   ]
  },
  {
   "cell_type": "markdown",
   "metadata": {},
   "source": [
    "# Noise cancellation schemes"
   ]
  },
  {
   "cell_type": "code",
   "execution_count": null,
   "metadata": {},
   "outputs": [],
   "source": [
    "def plot_comparison_frequency(original, filtered, title='filtered', phase=False):\n",
    "    from plotting_beamform import normalize\n",
    "    fig, axs = plt.subplots(2, sharex=True, sharey=True)\n",
    "    for m in range(original.shape[0]):\n",
    "        axs[0].semilogx(freqs, 20*np.log10(np.abs(original[m])), label=f'mic{m}', color=f\"C{m}\")\n",
    "        axs[1].semilogx(freqs, 20*np.log10(np.abs(filtered[m])), label=f'mic{m}', color=f\"C{m}\")\n",
    "    axs[0].get_xaxis().set_visible(False)\n",
    "    [ax.set_ylabel('amplitude [dB]') for ax in axs]\n",
    "    axs[1].set_xlabel('frequency [Hz]')\n",
    "    axs[0].set_title('original'); axs[1].set_title(title)\n",
    "    plt.legend()\n",
    "\n",
    "    if phase:\n",
    "        fig, axs = plt.subplots(2, sharex=True, sharey=True)\n",
    "        for m in range(original.shape[0]):\n",
    "            axs[0].semilogx(freqs, np.angle(original[m]), label=f'mic{m}', color=f\"C{m}\")\n",
    "            axs[1].semilogx(freqs, np.angle(filtered[m]), label=f'mic{m}', color=f\"C{m}\")\n",
    "        axs[0].get_xaxis().set_visible(False)\n",
    "        [ax.set_ylabel('phase [rad]') for ax in axs]\n",
    "        axs[1].set_xlabel('frequency [Hz]')\n",
    "        axs[0].set_title('original'); axs[1].set_title(title)\n",
    "        plt.legend()\n",
    "        \n",
    "    return fig, axs\n",
    "    \n",
    "def plot_comparison_time(original, filtered, title='filtered'):\n",
    "    from plotting_beamform import normalize\n",
    "    length = 100\n",
    "    fig, axs = plt.subplots(2, sharex=True, sharey=True)\n",
    "    for m in range(original.shape[0]):\n",
    "        axs[0].plot(normalize(original[m, :length]).T, color=f\"C{m}\")\n",
    "        axs[1].plot(normalize(filtered[m, :length]).T, color=f\"C{m}\")\n",
    "    axs[0].set_title('original'); axs[1].set_title(title)\n",
    "    [ax.set_ylabel('amplitude [-]') for ax in axs]\n",
    "    axs[1].set_xlabel('time index [-]')\n",
    "    return fig, axs"
   ]
  },
  {
   "cell_type": "code",
   "execution_count": null,
   "metadata": {},
   "outputs": [],
   "source": [
    "filtered_dict = {}\n",
    "freqs = np.fft.rfftfreq(n_buffer, d=1/Fs)\n",
    "buffer_all_f = np.fft.rfft(buffer_all)"
   ]
  },
  {
   "cell_type": "markdown",
   "metadata": {},
   "source": [
    "## IIR bandpass"
   ]
  },
  {
   "cell_type": "code",
   "execution_count": null,
   "metadata": {
    "scrolled": false
   },
   "outputs": [],
   "source": [
    "from noise_cancellation import filter_iir_bandpass\n",
    "\n",
    "bin_ = get_max_bins(buffer_source)[0]\n",
    "f_center = freqs[bin_]\n",
    "print(bin_, freqs[bin_])\n",
    "\n",
    "f_delta = 20\n",
    "order = 10\n",
    "fmin = f_center - f_delta\n",
    "fmax = f_center + f_delta\n",
    "filtered_dict['cheby'] = filter_iir_bandpass(buffer_all, fmin, fmax, Fs, method='cheby2', order=order, plot=True)\n",
    "filtered_dict['single_peak'] = filter_iir_bandpass(buffer_all, fmin, fmax, Fs, method='single_peak', plot=True)\n",
    "\n",
    "for name, buffer_filtered in filtered_dict.items():\n",
    "    buffer_filtered_f = np.fft.rfft(buffer_filtered)\n",
    "    fig, axs = plot_comparison_frequency(buffer_all_f, buffer_filtered_f, title=name)\n",
    "    [ax.axvline(x=f, color='k', ls=':') for ax in axs for f in [fmin, fmax]]\n",
    "    plot_comparison_time(buffer_all, buffer_filtered, title=name)"
   ]
  },
  {
   "cell_type": "markdown",
   "metadata": {},
   "source": [
    "## Difference"
   ]
  },
  {
   "cell_type": "code",
   "execution_count": null,
   "metadata": {},
   "outputs": [],
   "source": [
    "buffer_props_f = np.fft.rfft(buffer_props)\n",
    "\n",
    "#abs_props = np.mean(np.abs(buffer_props_f), axis=0)\n",
    "#abs_props_f = np.abs(buffer_props_f[0])\n",
    "abs_props_f = np.abs(buffer_props_f[1])\n",
    "fig, ax = plt.subplots()\n",
    "ax.set_title('average propellers signal')\n",
    "ax.semilogx(freqs, 20*np.log10(abs_props_f), label='propellers', color='k')\n",
    "\n",
    "# replace the absolute part of the signal with the difference \n",
    "abs_buffer_diff_f = (np.abs(buffer_all_f) - abs_props_f)\n",
    "buffer_diff_f = abs_buffer_diff_f * np.exp(1j*np.angle(buffer_all_f))\n",
    "\n",
    "# test that this gives back the original signal\n",
    "#buffer_diff_f = np.abs(buffer_all_f) * np.exp(1j*np.angle(buffer_all_f))\n",
    "buffer_diff = np.fft.irfft(buffer_diff_f, n=buffer_all.shape[1])\n",
    "\n",
    "filtered_dict['diff'] = buffer_diff\n",
    "plot_comparison_frequency(buffer_all_f[:1], buffer_diff_f[:1], title='diff')\n",
    "plot_comparison_time(buffer_all, buffer_diff, title='diff')"
   ]
  },
  {
   "cell_type": "markdown",
   "metadata": {},
   "source": [
    "## Wiener filter"
   ]
  },
  {
   "cell_type": "code",
   "execution_count": null,
   "metadata": {},
   "outputs": [],
   "source": [
    "buffer_source_f = np.fft.rfft(buffer_source)\n",
    "psd_source = np.abs(buffer_source_f)**2\n",
    "psd_noise = np.abs(buffer_props_f)**2\n",
    "\n",
    "g = psd_source / (psd_source + psd_noise)\n",
    "\n",
    "filtered_wiener_f = np.multiply(g, buffer_all_f)\n",
    "filtered_wiener = np.fft.irfft(filtered_wiener_f, n=buffer_all.shape[1])\n",
    "filtered_dict['wiener'] = filtered_wiener \n",
    "plot_comparison_frequency(buffer_all_f, filtered_wiener_f, 'wiener')\n",
    "plot_comparison_time(buffer_all, filtered_wiener, 'wiener')"
   ]
  },
  {
   "cell_type": "markdown",
   "metadata": {},
   "source": [
    "## Comb filter"
   ]
  },
  {
   "cell_type": "code",
   "execution_count": null,
   "metadata": {},
   "outputs": [],
   "source": [
    "from noise_cancellation import filter_iir_comb\n",
    "\n",
    "bins_source = get_max_bins(buffer_source)\n",
    "bins_prop = get_max_bins(buffer_props)\n",
    "print([freqs[bin_] for bin_ in bins_prop])\n",
    "\n",
    "f_prop = freqs[bins_prop[0]]\n",
    "f_source = freqs[bins_source[0]]\n",
    "print(f_source)\n",
    "filters = {\n",
    "    'notch': f_prop / 2,\n",
    "    'peak': f_source + f_source/2,\n",
    "}\n",
    "Q = 5\n",
    "\n",
    "for ftype, freq in filters.items():\n",
    "    plt.figure()\n",
    "    filtered_dict[ftype] = filter_iir_comb(buffer_all, freq, Fs, ftype=ftype, Q=Q, plot=True)\n",
    "    plt.legend()\n",
    "    filtered_f = np.fft.rfft(filtered_dict[ftype])\n",
    "    plot_comparison_frequency(buffer_all_f, filtered_f, ftype)"
   ]
  },
  {
   "cell_type": "code",
   "execution_count": null,
   "metadata": {},
   "outputs": [],
   "source": [
    "ipd.Audio(data=buffer_all, rate=Fs, normalize=True)"
   ]
  },
  {
   "cell_type": "code",
   "execution_count": null,
   "metadata": {},
   "outputs": [],
   "source": [
    "ipd.Audio(data=buffer_source, rate=Fs, normalize=True)"
   ]
  },
  {
   "cell_type": "code",
   "execution_count": null,
   "metadata": {},
   "outputs": [],
   "source": [
    "ipd.Audio(data=filtered_dict['cheby'], rate=Fs, normalize=True)"
   ]
  },
  {
   "cell_type": "code",
   "execution_count": null,
   "metadata": {},
   "outputs": [],
   "source": [
    "ipd.Audio(data=filtered_dict['single_peak'], rate=Fs, normalize=True)"
   ]
  },
  {
   "cell_type": "code",
   "execution_count": null,
   "metadata": {},
   "outputs": [],
   "source": [
    "ipd.Audio(data=filtered_dict['diff'], rate=Fs, normalize=True)"
   ]
  },
  {
   "cell_type": "code",
   "execution_count": null,
   "metadata": {},
   "outputs": [],
   "source": [
    "ipd.Audio(data=filtered_dict['peak'], rate=Fs, normalize=True)"
   ]
  },
  {
   "cell_type": "code",
   "execution_count": null,
   "metadata": {},
   "outputs": [],
   "source": [
    "ipd.Audio(data=filtered_dict['notch'], rate=Fs, normalize=True)"
   ]
  },
  {
   "cell_type": "code",
   "execution_count": null,
   "metadata": {},
   "outputs": [],
   "source": [
    "ipd.Audio(data=filtered_dict['wiener'], rate=Fs, normalize=True)"
   ]
  },
  {
   "cell_type": "code",
   "execution_count": null,
   "metadata": {
    "scrolled": false
   },
   "outputs": [],
   "source": [
    "from algos_basics import get_autocorrelation\n",
    "\n",
    "R_all = get_autocorrelation(buffer_all)\n",
    "plt.matshow(np.angle(R_all[bin_]))\n",
    "plt.title('original')\n",
    "plt.colorbar()\n",
    "for name, filtered_buffer in filtered_dict.items():\n",
    "    R_filtered = get_autocorrelation(filtered_buffer)\n",
    "    plt.matshow(np.angle(R_filtered[bin_]))\n",
    "    np.testing.assert_allclose(np.angle(R_filtered[bin_]), np.angle(R_all[bin_]), atol=1e-3)\n",
    "    print(f\"angle error for {name}: {np.linalg.norm(np.angle(R_filtered[bin_]) - np.angle(R_all[bin_]))}\")\n",
    "    plt.colorbar()\n",
    "    plt.title(name)"
   ]
  }
 ],
 "metadata": {
  "kernelspec": {
   "display_name": "Python 3",
   "language": "python",
   "name": "python3"
  },
  "language_info": {
   "codemirror_mode": {
    "name": "ipython",
    "version": 3
   },
   "file_extension": ".py",
   "mimetype": "text/x-python",
   "name": "python",
   "nbconvert_exporter": "python",
   "pygments_lexer": "ipython3",
   "version": "3.6.9"
  }
 },
 "nbformat": 4,
 "nbformat_minor": 4
}
