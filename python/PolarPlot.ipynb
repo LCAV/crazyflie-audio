{
 "cells": [
  {
   "cell_type": "markdown",
   "metadata": {},
   "source": [
    "# PolarPlot\n",
    "\n",
    "Notebook to evaluate experiments of polar response of MEMS microphones."
   ]
  },
  {
   "cell_type": "code",
   "execution_count": null,
   "metadata": {},
   "outputs": [],
   "source": [
    "import numpy as np\n",
    "import matplotlib.pylab as plt\n",
    "import pandas as pd\n",
    "import seaborn as sns\n",
    "\n",
    "%reload_ext autoreload\n",
    "%autoreload 2"
   ]
  },
  {
   "cell_type": "code",
   "execution_count": null,
   "metadata": {},
   "outputs": [],
   "source": [
    "folder = '../data/polar_data'\n",
    "angles = np.arange(5) * 45\n",
    "els, azs = np.meshgrid(angles, angles)\n",
    "\n",
    "data_full = pd.DataFrame()\n",
    "\n",
    "for el, az in zip(els.flatten(), azs.flatten()):\n",
    "    fname = f'{folder}/Mes_b_{el}_{az}.txt'\n",
    "    try:\n",
    "        data = pd.read_csv(fname, sep=' ', comment='*', names=['freq', 'SPL', 'phase'])\n",
    "        data['elevation'] = el\n",
    "        data['azimuth'] = az\n",
    "        data_full = data_full.append(data)\n",
    "    except Exception as e:\n",
    "        print(e)"
   ]
  },
  {
   "cell_type": "code",
   "execution_count": null,
   "metadata": {},
   "outputs": [],
   "source": [
    "fig, ax = plt.subplots()\n",
    "for el, data_el in data_full.groupby('elevation'):\n",
    "    for az, data in data_el.groupby('azimuth'):\n",
    "        #ax.semilogy(data.freq[200:], data.SPL[200:], label=f'{el}/{az}')\n",
    "        ax.loglog(data.freq[200:], data.SPL[200:], label=f'{el}/{az}')\n",
    "        \n",
    "ax.set_ylim(50, 100)\n",
    "ax.legend(bbox_to_anchor=[1.0, 0.0], loc='lower left')\n",
    "ax.set_xlabel('frequency [Hz]')\n",
    "ax.set_ylabel('SPL')\n",
    "data_full.head()"
   ]
  },
  {
   "cell_type": "code",
   "execution_count": null,
   "metadata": {},
   "outputs": [],
   "source": [
    "# elevation\n",
    "el = 45\n",
    "octaves = 40*2**np.arange(10)\n",
    "octaves = np.r_[0, octaves]\n",
    "#octaves = np.linspace(data.freq.min(), data.freq.max(), 10)\n",
    "print(octaves)\n",
    "\n",
    "#ax = plt.subplot(111, projection='polar')\n",
    "ax = plt.subplot(111)\n",
    "for i in range(len(octaves)-1):\n",
    "    mean_per_angle = []\n",
    "    for az, data in data_full.groupby('azimuth'):\n",
    "        o_min = octaves[i]\n",
    "        o_max = octaves[i+1]\n",
    "        this_data = data[(data.freq < o_max) & (data.freq > o_min)]\n",
    "        mean = this_data.SPL.mean()\n",
    "        if not this_data.empty:\n",
    "            mean_per_angle.append(mean)\n",
    "        else:\n",
    "            mean_per_angle.append(None)\n",
    "            \n",
    "    ax.semilogy(angles*np.pi/180, mean_per_angle, label=f'{o_min:.0f}-{o_max:.0f}', color=f'C{i}',\n",
    "            marker='*')\n",
    "ax.legend(bbox_to_anchor=[1.0, 0.0], loc='lower left', title='frequency ranges')"
   ]
  },
  {
   "cell_type": "code",
   "execution_count": null,
   "metadata": {},
   "outputs": [],
   "source": []
  }
 ],
 "metadata": {
  "kernelspec": {
   "display_name": "Python 3",
   "language": "python",
   "name": "python3"
  },
  "language_info": {
   "codemirror_mode": {
    "name": "ipython",
    "version": 3
   },
   "file_extension": ".py",
   "mimetype": "text/x-python",
   "name": "python",
   "nbconvert_exporter": "python",
   "pygments_lexer": "ipython3",
   "version": "3.6.9"
  }
 },
 "nbformat": 4,
 "nbformat_minor": 4
}
