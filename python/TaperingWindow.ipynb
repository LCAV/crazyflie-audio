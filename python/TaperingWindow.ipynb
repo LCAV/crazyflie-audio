{
 "cells": [
  {
   "cell_type": "code",
   "execution_count": null,
   "metadata": {},
   "outputs": [],
   "source": [
    "import math\n",
    "import sys\n",
    "import os\n",
    "\n",
    "import IPython\n",
    "import matplotlib.pylab as plt\n",
    "import numpy as np\n",
    "from scipy import signal\n",
    "\n",
    "%load_ext autoreload\n",
    "%autoreload 2"
   ]
  },
  {
   "cell_type": "code",
   "execution_count": null,
   "metadata": {},
   "outputs": [],
   "source": [
    "from crazyflie_description_py.parameters import TUKEY_ALPHA, N_BUFFER\n",
    "\n",
    "buffer_length = N_BUFFER # was 2048\n",
    "fade_length_ratio = 0.2\n"
   ]
  },
  {
   "cell_type": "code",
   "execution_count": null,
   "metadata": {},
   "outputs": [],
   "source": [
    "# Ramp\n",
    "fade_length = np.ceil(buffer_length * fade_length_ratio)\n",
    "print(f\"Fade length is {fade_length} samples on a buffer of {buffer_length}\")\n",
    "fade_in = np.arange(0, 1, 1 / (buffer_length * fade_length_ratio))\n",
    "constant_section = np.ones(int(buffer_length - 2 * fade_length))\n",
    "ramp_window = np.concatenate([fade_in, constant_section, 1 - fade_in])"
   ]
  },
  {
   "cell_type": "code",
   "execution_count": null,
   "metadata": {},
   "outputs": [],
   "source": [
    "# Tukey\n",
    "tukey_window = signal.tukey(buffer_length, alpha=TUKEY_ALPHA)\n",
    "flattop_window = signal.flattop(buffer_length, True)"
   ]
  },
  {
   "cell_type": "code",
   "execution_count": null,
   "metadata": {},
   "outputs": [],
   "source": [
    "plt.plot(ramp_window, label=\"ramp\")\n",
    "plt.plot(tukey_window, label=\"tukey\")\n",
    "plt.plot(flattop_window, label=\"flattop\")\n",
    "plt.legend()"
   ]
  },
  {
   "cell_type": "code",
   "execution_count": null,
   "metadata": {},
   "outputs": [],
   "source": [
    "FS = 32000\n",
    "f = 1000\n",
    "noise = 1.0\n",
    "s = np.sin(2*np.pi*f*np.arange(buffer_length)/FS) + np.random.normal(scale=noise, size=buffer_length)\n",
    "\n",
    "freq = np.fft.rfftfreq(len(ramp_window), 1/FS)\n",
    "plt.semilogy(freq, np.abs(np.fft.rfft(s*ramp_window))/buffer_length)\n",
    "plt.semilogy(freq, np.abs(np.fft.rfft(s*tukey_window))/buffer_length)\n",
    "plt.semilogy(freq, np.abs(np.fft.rfft(s*flattop_window))/buffer_length)\n",
    "plt.xlim(f-500, f+500)"
   ]
  },
  {
   "cell_type": "code",
   "execution_count": null,
   "metadata": {},
   "outputs": [],
   "source": [
    "out_dir = \"../firmware/audio_shield_firmware/Core/Inc\"\n",
    "\n",
    "save_dict = {\n",
    "    \"tukey_window\": tukey_window,\n",
    "    \"flattop_window\": flattop_window,\n",
    "}\n",
    "\n",
    "for key, arr in save_dict.items():\n",
    "    fname = f\"{out_dir}/{key}.h\"\n",
    "    with open(fname, \"w+\") as f:\n",
    "        f.write(f\"#ifndef __{key.upper()}_H \\n#define __{key.upper()}_H\\n\\n\")\n",
    "\n",
    "        f.write(f\"float32_t tapering_window[{buffer_length}] = \" + r\"{\")\n",
    "        [f.write(f\"{s:.15f}, \",) for s in arr[:-1]]\n",
    "        [f.write(f\"{s:.15f}\",) for s in arr[-1:]]\n",
    "        f.write(r\"};\" + \" \\n\\n\")\n",
    "\n",
    "        f.write(f\"#endif /* __{key.upper()}_H */\")\n",
    "    print('wrote to', fname)"
   ]
  },
  {
   "cell_type": "code",
   "execution_count": null,
   "metadata": {},
   "outputs": [],
   "source": []
  },
  {
   "cell_type": "code",
   "execution_count": null,
   "metadata": {},
   "outputs": [],
   "source": []
  }
 ],
 "metadata": {
  "kernelspec": {
   "display_name": "Python 3",
   "language": "python",
   "name": "python3"
  },
  "language_info": {
   "codemirror_mode": {
    "name": "ipython",
    "version": 3
   },
   "file_extension": ".py",
   "mimetype": "text/x-python",
   "name": "python",
   "nbconvert_exporter": "python",
   "pygments_lexer": "ipython3",
   "version": "3.6.9"
  },
  "toc": {
   "base_numbering": 1,
   "nav_menu": {},
   "number_sections": true,
   "sideBar": true,
   "skip_h1_title": false,
   "title_cell": "Table of Contents",
   "title_sidebar": "Contents",
   "toc_cell": false,
   "toc_position": {},
   "toc_section_display": true,
   "toc_window_display": false
  }
 },
 "nbformat": 4,
 "nbformat_minor": 4
}
