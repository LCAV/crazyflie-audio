{
 "cells": [
  {
   "cell_type": "code",
   "execution_count": 1,
   "metadata": {},
   "outputs": [],
   "source": [
    "import math\n",
    "import sys\n",
    "import os\n",
    "\n",
    "import IPython\n",
    "import matplotlib.pylab as plt\n",
    "import numpy as np\n",
    "from scipy import signal\n",
    "\n",
    "%load_ext autoreload\n",
    "%autoreload 2"
   ]
  },
  {
   "cell_type": "code",
   "execution_count": 2,
   "metadata": {},
   "outputs": [],
   "source": [
    "from crazyflie_description_py.parameters import N_BUFFER, FS\n",
    "from audio_stack.parameters import TUKEY_ALPHA\n",
    "\n",
    "tukey_window = signal.tukey(N_BUFFER, alpha=TUKEY_ALPHA)\n",
    "hann_window = signal.hann(N_BUFFER)\n",
    "flattop_window = signal.flattop(N_BUFFER, True)"
   ]
  },
  {
   "cell_type": "code",
   "execution_count": 3,
   "metadata": {},
   "outputs": [
    {
     "name": "stdout",
     "output_type": "stream",
     "text": [
      "hann correction factor: 4.99995e-01\n",
      "tukey correction factor: 8.99991e-01\n",
      "flattop correction factor: 2.15577e-01\n",
      "hann correction factor: 4.99951e-01\n",
      "tukey correction factor: 8.99912e-01\n",
      "flattop correction factor: 2.15558e-01\n",
      "hann correction factor: 4.99512e-01\n",
      "tukey correction factor: 8.99121e-01\n",
      "flattop correction factor: 2.15368e-01\n"
     ]
    },
    {
     "data": {
      "image/png": "[encoded data removed]",
      "text/plain": [
       "<Figure size 432x288 with 1 Axes>"
      ]
     },
     "metadata": {
      "needs_background": "light"
     },
     "output_type": "display_data"
    }
   ],
   "source": [
    "plt.plot(hann_window, label=\"hann\")\n",
    "plt.plot(tukey_window, label=\"tukey\")\n",
    "plt.plot(flattop_window, label=\"flattop\")\n",
    "plt.legend()\n",
    "\n",
    "for n_buffer in [N_BUFFER*100, N_BUFFER*10, N_BUFFER]: #N_BUFFER*1000, N_BUFFER*10000]:\n",
    "    tukey = signal.tukey(n_buffer, alpha=TUKEY_ALPHA)\n",
    "    hann = signal.hann(n_buffer)\n",
    "    flattop = signal.flattop(n_buffer, True)\n",
    "    for label, window in zip([\"hann\", \"tukey\", \"flattop\"],[hann, tukey, flattop]):\n",
    "        corr_factor = np.sum(window)/n_buffer\n",
    "        print(f'{label} correction factor: {corr_factor:.5e}')"
   ]
  },
  {
   "cell_type": "code",
   "execution_count": null,
   "metadata": {},
   "outputs": [],
   "source": [
    "from audio_stack.parameters import WINDOW_CORRECTION\n",
    "fs = [1000, 1200, 2000]\n",
    "noise = 1e-4\n",
    "s = np.random.normal(scale=noise, size=N_BUFFER)\n",
    "for f in fs:\n",
    "    s += np.sin(2*np.pi*f*np.arange(N_BUFFER)/FS)\n",
    "    plt.axvline(f, color='k', ls=':')\n",
    "plt.axvline(f, color='k', ls=':', label='source frequencies')\n",
    "\n",
    "freq = np.fft.rfftfreq(N_BUFFER, 1/FS)\n",
    "for label, window in zip(['None', 'hann', 'tukey', 'flattop'], [None, hann_window, tukey_window, flattop_window]):\n",
    "    if window is not None:\n",
    "        mag = np.abs(np.fft.rfft(s*window))/WINDOW_CORRECTION[label]\n",
    "    else:\n",
    "        mag = np.abs(np.fft.rfft(s))\n",
    "    plt.semilogy(freq, mag/N_BUFFER, label=label) \n",
    "plt.xlim(max(min(fs)-500, 0), max(fs)+500)\n",
    "plt.legend(loc='lower right')"
   ]
  },
  {
   "cell_type": "code",
   "execution_count": null,
   "metadata": {},
   "outputs": [],
   "source": [
    "out_dir = \"../firmware/audio_shield_firmware/Core/Inc\"\n",
    "\n",
    "save_dict = {\n",
    "    \"hann_window\": hann_window,\n",
    "    \"tukey_window\": tukey_window,\n",
    "    \"flattop_window\": flattop_window,\n",
    "}\n",
    "\n",
    "max_int16 = 2**(16-1) - 1\n",
    "print(max_int16)\n",
    "\n",
    "\n",
    "for key, arr in save_dict.items():\n",
    "    arr = np.copy(arr)\n",
    "    assert np.all(arr <= 1.0), arr[arr > 1.0]\n",
    "    assert np.all(arr >= -1.0)\n",
    "    print(np.min(arr), np.max(arr))\n",
    "    \n",
    "    arr *= max_int16 \n",
    "    arr = np.round(arr)\n",
    "    print(arr)\n",
    "    \n",
    "    fname = f\"{out_dir}/{key}.h\"\n",
    "    with open(fname, \"w+\") as f:\n",
    "        f.write(f\"#ifndef __{key.upper()}_H \\n#define __{key.upper()}_H\\n\\n\")\n",
    "\n",
    "        f.write(f\"int16_t {key}[{N_BUFFER}] = \" + r\"{\")\n",
    "        [f.write(f\"{s:.0f}, \",) for s in arr[:-1]]\n",
    "        [f.write(f\"{s:.0f}\",) for s in arr[-1:]]\n",
    "        f.write(r\"};\" + \" \\n\\n\")\n",
    "\n",
    "        f.write(f\"#endif /* __{key.upper()}_H */\")\n",
    "    print('wrote to', fname)"
   ]
  },
  {
   "cell_type": "code",
   "execution_count": null,
   "metadata": {},
   "outputs": [],
   "source": []
  },
  {
   "cell_type": "code",
   "execution_count": null,
   "metadata": {},
   "outputs": [],
   "source": []
  }
 ],
 "metadata": {
  "kernelspec": {
   "display_name": "Python 3",
   "language": "python",
   "name": "python3"
  },
  "language_info": {
   "codemirror_mode": {
    "name": "ipython",
    "version": 3
   },
   "file_extension": ".py",
   "mimetype": "text/x-python",
   "name": "python",
   "nbconvert_exporter": "python",
   "pygments_lexer": "ipython3",
   "version": "3.6.9"
  },
  "toc": {
   "base_numbering": 1,
   "nav_menu": {},
   "number_sections": true,
   "sideBar": true,
   "skip_h1_title": false,
   "title_cell": "Table of Contents",
   "title_sidebar": "Contents",
   "toc_cell": false,
   "toc_position": {},
   "toc_section_display": true,
   "toc_window_display": false
  }
 },
 "nbformat": 4,
 "nbformat_minor": 4
}
