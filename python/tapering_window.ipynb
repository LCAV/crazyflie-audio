{
 "cells": [
  {
   "cell_type": "code",
   "execution_count": 107,
   "metadata": {},
   "outputs": [],
   "source": [
    "import math\n",
    "import sys\n",
    "import os\n",
    "\n",
    "import IPython\n",
    "import matplotlib.pylab as plt\n",
    "import numpy as np\n",
    "from scipy import signal\n"
   ]
  },
  {
   "cell_type": "code",
   "execution_count": 123,
   "metadata": {},
   "outputs": [
    {
     "name": "stdout",
     "output_type": "stream",
     "text": [
      "/Users/hoffet/Documents/LCAV_Repo/crazyflie-audio/python\n",
      "Buffer length is 1024\n"
     ]
    }
   ],
   "source": [
    "print(sys.path[0])\n",
    "out_dir = '../firmware/audio_shield_firmware/Core/Inc'\n",
    "out_name = \"tapering_window.h\"\n",
    "var_name = \"tukey_window\"\n",
    "buffer_length = 1024\n",
    "fade_length_ratio = 0.2\n",
    "print(f\"Buffer length is {buffer_length}\")"
   ]
  },
  {
   "cell_type": "code",
   "execution_count": 124,
   "metadata": {},
   "outputs": [
    {
     "name": "stdout",
     "output_type": "stream",
     "text": [
      "Fade length is 205.0 samples on a buffer of 1024\n"
     ]
    }
   ],
   "source": [
    "#Ramp\n",
    "fade_length = np.ceil(buffer_length*fade_length_ratio)\n",
    "print(f\"Fade length is {fade_length} samples on a buffer of {buffer_length}\")\n",
    "fade_in = np.arange(0,1,1/(buffer_length*fade_length_ratio))\n",
    "constant_section = np.ones(int(buffer_length-2*fade_length)) \n",
    "ramp_window = np.concatenate([fade_in,constant_section, 1-fade_in])"
   ]
  },
  {
   "cell_type": "code",
   "execution_count": 125,
   "metadata": {},
   "outputs": [],
   "source": [
    "#Tukey\n",
    "tukey_window = signal.tukey(buffer_length)"
   ]
  },
  {
   "cell_type": "code",
   "execution_count": 126,
   "metadata": {},
   "outputs": [
    {
     "data": {
      "text/plain": [
       "[<matplotlib.lines.Line2D at 0x11e8048e0>]"
      ]
     },
     "execution_count": 126,
     "metadata": {},
     "output_type": "execute_result"
    },
    {
     "data": {
      "image/png": "[encoded data removed]",
      "text/plain": [
       "<Figure size 432x288 with 1 Axes>"
      ]
     },
     "metadata": {
      "needs_background": "light"
     },
     "output_type": "display_data"
    }
   ],
   "source": [
    "plt.plot(ramp_window)\n",
    "plt.plot(tukey_window)"
   ]
  },
  {
   "cell_type": "code",
   "execution_count": 128,
   "metadata": {},
   "outputs": [],
   "source": [
    "fname = f\"{out_dir}/{out_name}\"\n",
    "\n",
    "with open(fname, \"w+\") as f:\n",
    "        f.write(f\"#ifndef __TAPERING_WINDOW_H \\n#define __TAPERING_WINDOW_H\\n\\n\")\n",
    "    \n",
    "        f.write(f\"float32_t {var_name}[{buffer_length}] = \" + r\"{\")\n",
    "        [f.write(f\"{s:.15f}, \",) for s in tukey_window[:-1]]\n",
    "        [f.write(f\"{s:.15f}\",) for s in tukey_window[-1:]]\n",
    "        # np.array_str(signal, precision=15, max_line_width=80))\n",
    "        f.write(r\"};\" + \" \\n\\n\")\n",
    "        \n",
    "        f.write(f\"#endif /* __FFT_BIN_DATA_H */\")\n",
    "\n"
   ]
  },
  {
   "cell_type": "code",
   "execution_count": null,
   "metadata": {},
   "outputs": [],
   "source": []
  },
  {
   "cell_type": "code",
   "execution_count": null,
   "metadata": {},
   "outputs": [],
   "source": []
  }
 ],
 "metadata": {
  "kernelspec": {
   "display_name": "Python 3",
   "language": "python",
   "name": "python3"
  },
  "language_info": {
   "codemirror_mode": {
    "name": "ipython",
    "version": 3
   },
   "file_extension": ".py",
   "mimetype": "text/x-python",
   "name": "python",
   "nbconvert_exporter": "python",
   "pygments_lexer": "ipython3",
   "version": "3.8.3"
  }
 },
 "nbformat": 4,
 "nbformat_minor": 4
}
