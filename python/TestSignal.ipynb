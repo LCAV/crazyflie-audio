{
 "cells": [
  {
   "cell_type": "markdown",
   "metadata": {},
   "source": [
    "# TestSignal\n",
    "\n",
    "Notebook to compare output of audio processing implemented in C in firmware with the expected output."
   ]
  },
  {
   "cell_type": "code",
   "execution_count": null,
   "metadata": {},
   "outputs": [],
   "source": [
    "import math\n",
    "import sys\n",
    "\n",
    "sys.path.append(\"../\")\n",
    "\n",
    "import IPython\n",
    "import matplotlib.pylab as plt\n",
    "import numpy as np\n",
    "\n",
    "from constants import SPEED_OF_SOUND\n",
    "\n",
    "%reload_ext autoreload\n",
    "%autoreload 2\n",
    "\n",
    "%matplotlib inline"
   ]
  },
  {
   "cell_type": "code",
   "execution_count": null,
   "metadata": {},
   "outputs": [],
   "source": [
    "#out_dir = \"\"  # do not save\n",
    "out_dir = '../firmware/audio_shield_firmware/Core/Inc/' # save\n",
    "\n",
    "#buffer_length = 32 \n",
    "buffer_length = 1024\n",
    "\n",
    "simulated = True\n",
    "#simulated = False"
   ]
  },
  {
   "cell_type": "markdown",
   "metadata": {},
   "source": [
    "## 1.a Generate simulated signal"
   ]
  },
  {
   "cell_type": "code",
   "execution_count": null,
   "metadata": {},
   "outputs": [],
   "source": [
    "if simulated:\n",
    "    from mic_array import get_uniform_array, ambiguity_test\n",
    "    from signals import MonoSignal\n",
    "    from algos_basics import get_mic_delays\n",
    "    \n",
    "    Fs = 32000\n",
    "    start_idx = 100\n",
    "    \n",
    "    gt_elevation = None\n",
    "    dimension = 2\n",
    "    baseline = 0.1  # 15\n",
    "    distance = 0.5  # distance of source\n",
    "    gt_azimuth = 30 * np.pi / 180.0\n",
    "    duration = 0.1  # seconds\n",
    "    times = np.arange(0, duration, step=1 / Fs)\n",
    "    added_noise_std = 1e-2  #\n",
    "    frequency = 800\n",
    "\n",
    "    source = distance * np.array([np.cos(gt_azimuth), np.sin(gt_azimuth)]).reshape((1, -1))\n",
    "    mic_positions = get_uniform_array(mic_number=4, dimension=dimension, baseline=baseline)\n",
    "    mic_ref = mic_positions[0]\n",
    "    ambiguity_test(mic_positions, frequency)\n",
    "\n",
    "    np.random.seed(1)\n",
    "\n",
    "    delays = get_mic_delays(mic_positions, source)\n",
    "\n",
    "    source_signal = MonoSignal(f=frequency)\n",
    "    signals = np.array(\n",
    "        [source_signal.evaluate(times + d, noise=0) for d in delays], dtype=np.float\n",
    "    )\n",
    "\n",
    "    if added_noise_std > 0:\n",
    "        signals += np.random.normal(loc=0, scale=added_noise_std, size=signals.shape)"
   ]
  },
  {
   "cell_type": "markdown",
   "metadata": {},
   "source": [
    "## 1.b Generate real signal"
   ]
  },
  {
   "cell_type": "code",
   "execution_count": null,
   "metadata": {},
   "outputs": [],
   "source": [
    "if not simulated:\n",
    "    from file_parser import read_recordings, parameters\n",
    "\n",
    "    dir_name = \"recordings_14_7_20\"\n",
    "    source = \"200Hz\"\n",
    "    loudness = \"high\"\n",
    "    gt_degrees = 0\n",
    "    signals_props, signals_source, signals_all = read_recordings(dir_name, loudness, gt_degrees, source)\n",
    "    \n",
    "    Fs = parameters[dir_name][\"Fs\"]\n",
    "    start_idx = parameters[dir_name][\"time_index\"]\n",
    "    print(Fs)\n",
    "    \n",
    "    signals = signals_all\n",
    "    print(\"read recordings\")"
   ]
  },
  {
   "cell_type": "markdown",
   "metadata": {},
   "source": [
    "## 2. Save signal"
   ]
  },
  {
   "cell_type": "code",
   "execution_count": null,
   "metadata": {},
   "outputs": [],
   "source": [
    "buffer = signals[:, start_idx : start_idx + buffer_length]\n",
    "if simulated:\n",
    "    name = f\"simulated_data_{buffer_length}\"\n",
    "else:\n",
    "    name = f\"real_data_{buffer_length}\"\n",
    "\n",
    "if out_dir != \"\":\n",
    "    fname = f\"{out_dir}/{name}.h\"\n",
    "    with open(fname, \"w\") as f:\n",
    "        for i, signal in enumerate(buffer):\n",
    "            f.write(f\"float32_t mic{i}[{buffer_length}] = \" + r\"{\")\n",
    "            [f.write(f\"{s:.15f}, \",) for s in signal[:-1]]\n",
    "            [f.write(f\"{s:.15f}\",) for s in signal[-1:]]\n",
    "            # np.array_str(signal, precision=15, max_line_width=80))\n",
    "            f.write(r\"};\" + \" \\n\\n\")\n",
    "    print(\"saved data as\", fname)\n",
    "\n",
    "fig, ax = plt.subplots()\n",
    "fig.set_size_inches(10, 5)\n",
    "for i, signal in enumerate(buffer):\n",
    "    ax.plot(signal, \".-\", label=f\"mic{i}\", color=f\"C{i}\")\n",
    "ax.legend()"
   ]
  },
  {
   "cell_type": "markdown",
   "metadata": {},
   "source": [
    "## 3. Inspect signal"
   ]
  },
  {
   "cell_type": "code",
   "execution_count": null,
   "metadata": {
    "scrolled": true
   },
   "outputs": [],
   "source": [
    "print(buffer[1])"
   ]
  },
  {
   "cell_type": "code",
   "execution_count": null,
   "metadata": {},
   "outputs": [],
   "source": [
    "buffer_f = np.fft.rfft(buffer, buffer.shape[1], axis=1)\n",
    "freq = np.fft.rfftfreq(n=buffer.shape[1], d=1/Fs)\n",
    "plt.figure()\n",
    "for i in range(buffer_f.shape[0]):\n",
    "    plt.loglog(freq, np.abs(buffer_f[i]))\n",
    "plt.figure()\n",
    "for i in range(buffer_f.shape[0]):\n",
    "    plt.loglog(freq, np.angle(buffer_f[i]))"
   ]
  },
  {
   "cell_type": "markdown",
   "metadata": {},
   "source": [
    "## Frequency bin selection"
   ]
  },
  {
   "cell_type": "code",
   "execution_count": null,
   "metadata": {},
   "outputs": [],
   "source": [
    "from bin_selection import select_frequencies, FFTSIZE_SENT\n",
    "\n",
    "min_freq= 100\n",
    "max_freq = 10000\n",
    "filter_snr_enable = True #True # \n",
    "filter_props_enable = True #True #False\n",
    "\n",
    "if filter_props_enable:\n",
    "    thrust = 43000 \n",
    "else:\n",
    "    thrust = None\n",
    "    \n",
    "fig, ax = plt.subplots()\n",
    "bins = select_frequencies(buffer_length, \n",
    "                          Fs, \n",
    "                          thrust=thrust, \n",
    "                          min_freq=min_freq, \n",
    "                          max_freq=max_freq, \n",
    "                          filter_snr=filter_snr_enable, \n",
    "                          buffer_f=buffer_f, \n",
    "                          ax=ax)\n",
    "max_amp = np.max(np.abs(buffer_f[:, (freq<max_freq) & (freq>min_freq)]))\n",
    "for i, signal in enumerate(buffer_f):\n",
    "    ax.semilogx(freq, np.abs(signal), label = f\"mic{i}\")\n",
    "ax.scatter(freq[bins], [0.3 * max_amp] * FFTSIZE_SENT)\n",
    "ax.set_xlim(min_freq, max_freq)\n",
    "\n",
    "print(bins)"
   ]
  },
  {
   "cell_type": "markdown",
   "metadata": {},
   "source": [
    "## Not used anymore: matrix inversion stuff"
   ]
  },
  {
   "cell_type": "code",
   "execution_count": null,
   "metadata": {},
   "outputs": [],
   "source": [
    "print(buffer.shape)\n",
    "print(buffer_f.shape)\n",
    "idx = 1\n",
    "for real, imag in zip(buffer_f[idx, :].real, buffer_f[idx, :].imag):\n",
    "    print(real, end=\", \")\n",
    "    print(imag)"
   ]
  },
  {
   "cell_type": "code",
   "execution_count": null,
   "metadata": {},
   "outputs": [],
   "source": [
    "vectf = np.empty((buffer_f.shape[1], buffer_f.shape[0]*2))\n",
    "for f in range(buffer_f.shape[1]):\n",
    "    m = 0\n",
    "    for mic in range(buffer_f.shape[0]):\n",
    "        vectf[f, m] = buffer_f[mic, f].real\n",
    "        vectf[f, m+1] = buffer_f[mic, f].imag\n",
    "        m += 2\n",
    "print('freq 0:', vectf[0])\n",
    "print(vectf[:, 2:4].flatten())\n",
    "\n",
    "print(buffer_f.shape)\n",
    "for f in range(buffer_f.shape[1]):\n",
    "    Rx = np.outer(buffer_f[:, f].conj(),  buffer_f[:, f])\n",
    " \n",
    "    for i in range(Rx.shape[0]):\n",
    "        for j in range(Rx.shape[1]):\n",
    "            print(np.round(Rx[i, j].real, 5), end=\",\")\n",
    "            print(np.round(Rx[i, j].imag, 5), end=\",\")\n",
    "        print()\n",
    "    print()\n",
    "    break"
   ]
  },
  {
   "cell_type": "code",
   "execution_count": null,
   "metadata": {},
   "outputs": [],
   "source": [
    "np.random.seed(1)\n",
    "real = np.random.choice(9, size=9).reshape((3, 3))\n",
    "imag = np.random.randint(9, size=9).reshape((3, 3))\n",
    "compl = real + 1j*imag\n",
    "print(compl)"
   ]
  },
  {
   "cell_type": "code",
   "execution_count": null,
   "metadata": {},
   "outputs": [],
   "source": [
    "compl_inv = np.linalg.inv(compl)\n",
    "print(compl_inv)"
   ]
  },
  {
   "cell_type": "code",
   "execution_count": null,
   "metadata": {},
   "outputs": [],
   "source": [
    "vect_Xf = np.array([-5.253,-0.59, -4.108,-0.646, 6.035,-0.536, 7.132, -0.578])\n",
    "vect_Xf_compl = vect_Xf[::2] + 1j*vect_Xf[1::2]\n",
    "\n",
    "print(vect_Xf_compl)\n",
    "\n",
    "lamda = 0.01\n",
    "R = vect_Xf_compl.reshape((-1, 1)).dot(vect_Xf_compl.conj().reshape((1, -1)))\n",
    "A = R.real + lamda * np.eye(R.shape[0])\n",
    "B = R.imag + lamda * np.eye(R.shape[0])"
   ]
  },
  {
   "cell_type": "code",
   "execution_count": null,
   "metadata": {},
   "outputs": [],
   "source": [
    "print(A)\n",
    "print(np.linalg.inv(A))"
   ]
  },
  {
   "cell_type": "code",
   "execution_count": null,
   "metadata": {},
   "outputs": [],
   "source": [
    "print(B)\n",
    "print(np.linalg.matrix_rank(B))\n",
    "print(np.linalg.inv(B))"
   ]
  },
  {
   "cell_type": "code",
   "execution_count": null,
   "metadata": {},
   "outputs": [],
   "source": [
    "print(np.linalg.inv(A+1j*B))"
   ]
  },
  {
   "cell_type": "code",
   "execution_count": null,
   "metadata": {},
   "outputs": [],
   "source": []
  },
  {
   "cell_type": "code",
   "execution_count": null,
   "metadata": {},
   "outputs": [],
   "source": []
  },
  {
   "cell_type": "code",
   "execution_count": null,
   "metadata": {},
   "outputs": [],
   "source": []
  }
 ],
 "metadata": {
  "kernelspec": {
   "display_name": "Python 3",
   "language": "python",
   "name": "python3"
  },
  "language_info": {
   "codemirror_mode": {
    "name": "ipython",
    "version": 3
   },
   "file_extension": ".py",
   "mimetype": "text/x-python",
   "name": "python",
   "nbconvert_exporter": "python",
   "pygments_lexer": "ipython3",
   "version": "3.6.9"
  }
 },
 "nbformat": 4,
 "nbformat_minor": 4
}
