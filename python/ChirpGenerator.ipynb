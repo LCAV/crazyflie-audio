{
 "cells": [
  {
   "cell_type": "code",
   "execution_count": 2,
   "metadata": {},
   "outputs": [],
   "source": [
    "import math\n",
    "import sys\n",
    "import os\n",
    "\n",
    "import IPython\n",
    "import matplotlib.pylab as plt\n",
    "import numpy as np\n",
    "from scipy import signal"
   ]
  },
  {
   "cell_type": "code",
   "execution_count": 3,
   "metadata": {},
   "outputs": [
    {
     "ename": "SyntaxError",
     "evalue": "invalid syntax (<ipython-input-3-7fecb9e83099>, line 11)",
     "output_type": "error",
     "traceback": [
      "\u001b[0;36m  File \u001b[0;32m\"<ipython-input-3-7fecb9e83099>\"\u001b[0;36m, line \u001b[0;32m11\u001b[0m\n\u001b[0;31m    print(f\"Melody length is {length}\")\u001b[0m\n\u001b[0m                                     ^\u001b[0m\n\u001b[0;31mSyntaxError\u001b[0m\u001b[0;31m:\u001b[0m invalid syntax\n"
     ]
    }
   ],
   "source": [
    "print(sys.path[0])\n",
    "out_dir = \"../firmware/audio_shield_firmware/Core/Inc\"\n",
    "out_name = \"chirp_generator.h\"\n",
    "var_name = \"chirp\"\n",
    "type = 'log'\n",
    "length = 32\n",
    "nbuffer = 2048\n",
    "fs = 32000\n",
    "fmin = 100\n",
    "fmax = 4400\n",
    "print(f\"Melody length is {length}\")"
   ]
  },
  {
   "cell_type": "code",
   "execution_count": null,
   "metadata": {},
   "outputs": [],
   "source": [
    "# Ramp\n",
    "freq = np.fft.rfftfreq(nbuffer, 1/fs)\n",
    "from bin_selection import select_frequencies"
   ]
  },
  {
   "cell_type": "code",
   "execution_count": null,
   "metadata": {},
   "outputs": [],
   "source": [
    "# Tukey\n",
    "tukey_window = signal.tukey(buffer_length, alpha=fade_length_ratio)\n",
    "#tukey_window = np.ones(buffer_length)"
   ]
  },
  {
   "cell_type": "code",
   "execution_count": null,
   "metadata": {},
   "outputs": [],
   "source": [
    "plt.plot(ramp_window, label=\"ramp\")\n",
    "plt.plot(tukey_window, label=\"tukey\")\n",
    "plt.legend()"
   ]
  },
  {
   "cell_type": "code",
   "execution_count": null,
   "metadata": {},
   "outputs": [],
   "source": [
    "fname = f\"{out_dir}/{out_name}\"\n",
    "\n",
    "with open(fname, \"w+\") as f:\n",
    "    f.write(f\"#ifndef __TAPERING_WINDOW_H \\n#define __TAPERING_WINDOW_H\\n\\n\")\n",
    "\n",
    "    f.write(f\"float32_t {var_name}[{buffer_length}] = \" + r\"{\")\n",
    "    [f.write(f\"{s:.15f}, \",) for s in tukey_window[:-1]]\n",
    "    [f.write(f\"{s:.15f}\",) for s in tukey_window[-1:]]\n",
    "    # np.array_str(signal, precision=15, max_line_width=80))\n",
    "    f.write(r\"};\" + \" \\n\\n\")\n",
    "\n",
    "    f.write(f\"#endif /* __FFT_BIN_DATA_H */\")"
   ]
  },
  {
   "cell_type": "code",
   "execution_count": null,
   "metadata": {},
   "outputs": [],
   "source": []
  },
  {
   "cell_type": "code",
   "execution_count": null,
   "metadata": {},
   "outputs": [],
   "source": []
  }
 ],
 "metadata": {
  "kernelspec": {
   "display_name": "Python 2",
   "language": "python",
   "name": "python2"
  },
  "language_info": {
   "codemirror_mode": {
    "name": "ipython",
    "version": 2
   },
   "file_extension": ".py",
   "mimetype": "text/x-python",
   "name": "python",
   "nbconvert_exporter": "python",
   "pygments_lexer": "ipython2",
   "version": "2.7.14"
  }
 },
 "nbformat": 4,
 "nbformat_minor": 4
}
