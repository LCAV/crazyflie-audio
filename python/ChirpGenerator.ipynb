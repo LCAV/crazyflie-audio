{
 "cells": [
  {
   "cell_type": "code",
   "execution_count": null,
   "metadata": {},
   "outputs": [],
   "source": [
    "import math\n",
    "import sys\n",
    "import os\n",
    "\n",
    "import IPython\n",
    "import matplotlib.pylab as plt\n",
    "import numpy as np\n",
    "from scipy import signal\n",
    "\n",
    "%load_ext autoreload\n",
    "%autoreload 2"
   ]
  },
  {
   "cell_type": "code",
   "execution_count": null,
   "metadata": {},
   "outputs": [],
   "source": [
    "def print_result(key, bins, t_sec=1, end='STOP', start_longer=True):\n",
    "    # 1Q per beat (quarter note = beat)\n",
    "    # bps = r(bpm) / 60 (beat per second)\n",
    "    # => seconds per Q: t = 60/r\n",
    "    r = round(60 / t_sec)\n",
    "\n",
    "    print(f\"static Melody {key}\" + r\" = {.bpm = \" + f\"{int(r)}\" + r\", .delay = 1, .notes = {\", end=\"\")\n",
    "    duration = 0\n",
    "    for i, freq in enumerate(freqs[bins]):\n",
    "        if (start_longer) and (i == 0):\n",
    "            # add longer duration in beginning to allow for experiment\n",
    "            # to start\n",
    "            print(r\"{\" + f\"{int(round(freq))}, W\" + r\"}, \", end=\"\")\n",
    "            duration += t_sec * 4\n",
    "        else:\n",
    "            print(r\"{\" + f\"{int(round(freq))}, Q\" + r\"}, \", end=\"\")\n",
    "            duration += t_sec\n",
    "    print(end + r\"}};\" +\" \\n\")\n",
    "    #print(f'duration: {duration:.0f} seconds, {duration/60:.0f} minutes \\n')"
   ]
  },
  {
   "cell_type": "code",
   "execution_count": null,
   "metadata": {},
   "outputs": [],
   "source": [
    "firmware_dir = \"/home/duembgen/Documents/PhD/workspace/crazyflie-firmware/\"\n",
    "out_name = firmware_dir + \"src/modules/src/sound_cf2.c\""
   ]
  },
  {
   "cell_type": "code",
   "execution_count": null,
   "metadata": {
    "scrolled": false
   },
   "outputs": [],
   "source": [
    "from bin_selection import generate_sweep\n",
    "from crazyflie_description_py.parameters import SOUND_EFFECTS, N_BUFFER, FS\n",
    "\n",
    "freqs = np.fft.rfftfreq(N_BUFFER, 1/FS)\n",
    "\n",
    "print(f\"add the following in {out_name} around line 200: \\n\")\n",
    "\n",
    "for key in SOUND_EFFECTS.keys():\n",
    "    if 'mono' in key:\n",
    "        continue\n",
    "        \n",
    "    bins, t_sec = generate_sweep(key)\n",
    "    \n",
    "    end = 'STOP'\n",
    "    start_longer = True\n",
    "    if key == 'sweep_slow':\n",
    "        start_longer = False\n",
    "        end = 'REPEAT'\n",
    "    elif key == 'sweep_fast':\n",
    "        start_longer = False\n",
    "        end = 'REPEAT'\n",
    "        \n",
    "    bins = np.array(bins)\n",
    "    bins = bins[bins>0]\n",
    "    print_result(key, bins, t_sec=t_sec, end=end, start_longer=start_longer)"
   ]
  },
  {
   "cell_type": "code",
   "execution_count": null,
   "metadata": {},
   "outputs": [],
   "source": [
    "n_freq=N_BUFFER//2+1\n",
    "fs1 = 32000\n",
    "fs2 = 44100\n",
    "\n",
    "delta = 1000\n",
    "fmin = 1000\n",
    "fmax = fmin + delta\n",
    "\n",
    "f1 = np.fft.rfftfreq(N_BUFFER, 1/fs1)\n",
    "f2 = np.fft.rfftfreq(round(N_BUFFER*fs2/fs1), 1/fs2)\n",
    "f1_mask = f1[(f1>=fmin) & (f1<fmax)]\n",
    "f2_mask = f2[(f2>=fmin) & (f2<fmax)]\n",
    "print('errors:', f2_mask[:5]-f1_mask[:5])\n",
    "fig = plt.figure()\n",
    "fig.set_size_inches(15, 5)\n",
    "[plt.plot([f, f], [0, 1], color='C0') for f in f1_mask]\n",
    "[plt.plot([f, f], [1, 2], color='C1') for f in f2_mask]\n",
    "pass                                                        "
   ]
  },
  {
   "cell_type": "code",
   "execution_count": null,
   "metadata": {},
   "outputs": [],
   "source": []
  }
 ],
 "metadata": {
  "kernelspec": {
   "display_name": "Python 3",
   "language": "python",
   "name": "python3"
  },
  "language_info": {
   "codemirror_mode": {
    "name": "ipython",
    "version": 3
   },
   "file_extension": ".py",
   "mimetype": "text/x-python",
   "name": "python",
   "nbconvert_exporter": "python",
   "pygments_lexer": "ipython3",
   "version": "3.6.9"
  },
  "toc": {
   "base_numbering": 1,
   "nav_menu": {},
   "number_sections": true,
   "sideBar": true,
   "skip_h1_title": false,
   "title_cell": "Table of Contents",
   "title_sidebar": "Contents",
   "toc_cell": false,
   "toc_position": {},
   "toc_section_display": true,
   "toc_window_display": false
  }
 },
 "nbformat": 4,
 "nbformat_minor": 4
}
