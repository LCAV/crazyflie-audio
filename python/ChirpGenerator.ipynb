{
 "cells": [
  {
   "cell_type": "code",
   "execution_count": null,
   "metadata": {},
   "outputs": [],
   "source": [
    "import math\n",
    "import sys\n",
    "import os\n",
    "\n",
    "import IPython\n",
    "import matplotlib.pylab as plt\n",
    "import numpy as np\n",
    "from scipy import signal"
   ]
  },
  {
   "cell_type": "code",
   "execution_count": null,
   "metadata": {},
   "outputs": [],
   "source": [
    "firmware_dir = \"/home/duembgen/Documents/PhD/workspace/crazyflie-firmware/\"\n",
    "out_name = firmware_dir + \"src/modules/src/sound_cf2.c\"\n",
    "\n",
    "n_buffer = 2048\n",
    "fs = 32000"
   ]
  },
  {
   "cell_type": "code",
   "execution_count": null,
   "metadata": {},
   "outputs": [],
   "source": [
    "from bin_selection import select_frequencies\n",
    "\n",
    "min_freq = 100\n",
    "max_freq = 4400\n",
    "t = 1 # duration of each note in seconds\n",
    "\n",
    "\n",
    "freqs = np.fft.rfftfreq(n_buffer, 1/fs)\n",
    "bins = select_frequencies(n_buffer=n_buffer, fs=fs, min_freq=min_freq, max_freq=max_freq)\n",
    "print(freqs[bins])"
   ]
  },
  {
   "cell_type": "code",
   "execution_count": null,
   "metadata": {},
   "outputs": [],
   "source": [
    "print(f\"add the following in {out_name} around line 200: \\n\")\n",
    "\n",
    "# 1Q per beat (quarter note = beat)\n",
    "# bps = r(bpm) / 60 (beat per second)\n",
    "# => seconds per Q: t = 60/r\n",
    "r = round(60 / t)\n",
    "\n",
    "print(r\"static Melody sweep = {.bpm = \" + f\"{int(r)}\" + r\", .delay = 1, .notes = {\", end=\"\")\n",
    "duration = 0\n",
    "for i, freq in enumerate(freqs[bins]):\n",
    "    if i > 0:\n",
    "        print(r\"{\" + f\"{int(round(freq))}, Q\" + r\"}, \", end=\"\")\n",
    "        duration += t\n",
    "    else:\n",
    "        # add longer duration in beginning to allow for experiment\n",
    "        # to start\n",
    "        print(r\"{\" + f\"{int(round(freq))}, W\" + r\"}, \", end=\"\")\n",
    "        duration += t * 4\n",
    "print(r\"STOP}};\")"
   ]
  },
  {
   "cell_type": "code",
   "execution_count": null,
   "metadata": {},
   "outputs": [],
   "source": [
    "print(f'duration: {len(bins) * t} seconds')\n",
    "print(f'duration: {duration}')"
   ]
  },
  {
   "cell_type": "code",
   "execution_count": null,
   "metadata": {},
   "outputs": [],
   "source": []
  }
 ],
 "metadata": {
  "kernelspec": {
   "display_name": "Python 3",
   "language": "python",
   "name": "python3"
  },
  "language_info": {
   "codemirror_mode": {
    "name": "ipython",
    "version": 3
   },
   "file_extension": ".py",
   "mimetype": "text/x-python",
   "name": "python",
   "nbconvert_exporter": "python",
   "pygments_lexer": "ipython3",
   "version": "3.6.9"
  }
 },
 "nbformat": 4,
 "nbformat_minor": 4
}
