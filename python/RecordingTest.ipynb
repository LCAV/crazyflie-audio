{
 "cells": [
  {
   "cell_type": "code",
   "execution_count": null,
   "metadata": {},
   "outputs": [],
   "source": [
    "import math\n",
    "import sys\n",
    "\n",
    "sys.path.append(\"../\")\n",
    "\n",
    "import IPython\n",
    "import matplotlib.pylab as plt\n",
    "import numpy as np\n",
    "\n",
    "from constants import SPEED_OF_SOUND\n",
    "\n",
    "%reload_ext autoreload\n",
    "%autoreload 2\n",
    "\n",
    "%matplotlib inline"
   ]
  },
  {
   "cell_type": "code",
   "execution_count": null,
   "metadata": {},
   "outputs": [],
   "source": [
    "import wave\n",
    "\n",
    "fname = '../data/test/random'\n",
    "\n",
    "with wave.open(f'{fname}.wav', 'r') as f:\n",
    "    n = f.getnframes()\n",
    "    fs = f.getframerate()\n",
    "    channels = f.getnchannels()\n",
    "    print(n, fs, channels)\n",
    "    bytes_ = f.readframes(n)\n",
    "    print('duration', len(bytes_) / channels / 4 / fs)\n",
    "array = np.frombuffer(bytes_, dtype=np.int32).reshape(channels, n)\n",
    "print(len(bytes_))\n",
    "print(array.shape)\n",
    "\n",
    "array = array.astype(np.float32) / (2**31 - 1)\n",
    "print(np.min(array), np.max(array))\n",
    "\n",
    "IPython.display.Audio(array, rate=fs, normalize=True)"
   ]
  },
  {
   "cell_type": "code",
   "execution_count": null,
   "metadata": {},
   "outputs": [],
   "source": [
    "from scipy.io import wavfile\n",
    "fs, array_scipy = wavfile.read(f'{fname}_scipy.wav')\n",
    "\n",
    "IPython.display.Audio(array_scipy, rate=fs, normalize=True)"
   ]
  },
  {
   "cell_type": "markdown",
   "metadata": {},
   "source": [
    "# Test new broadband deterministic signals"
   ]
  },
  {
   "cell_type": "code",
   "execution_count": null,
   "metadata": {},
   "outputs": [],
   "source": [
    "from signals import generate_signal\n",
    "from math import ceil\n",
    "\n",
    "duration = 3\n",
    "n_frequencies = 2048\n",
    "max_phase_shift = 100\n",
    "\n",
    "frequencies = np.fft.rfftfreq(n_frequencies, 1/fs)\n",
    "starts = np.random.choice(max_phase_shift, size=n_frequencies)\n",
    "\n",
    "duration_total = duration + max_phase_shift / fs\n",
    "n_buffer = int(ceil(duration * fs))\n",
    "\n",
    "signals = np.array([generate_signal(fs, duration_total, \"mono\", frequency_hz=f)[s:s+n_buffer] for s, f in zip(starts, frequencies)])\n",
    "print(signals.shape)\n",
    "signals = np.sum(signals, axis=0)\n",
    "print(signals.shape)\n",
    "\n",
    "plt.figure()\n",
    "plt.plot(signals)\n",
    "\n",
    "IPython.display.Audio(signals, rate=fs)"
   ]
  },
  {
   "cell_type": "code",
   "execution_count": null,
   "metadata": {},
   "outputs": [],
   "source": [
    "signals_f = np.fft.rfft(signals[:n_frequencies])\n",
    "plt.scatter(frequencies, np.abs(signals_f)/n_buffer*2)"
   ]
  },
  {
   "cell_type": "code",
   "execution_count": null,
   "metadata": {},
   "outputs": [],
   "source": [
    "from signals import generate_signal_random, linear_increase\n",
    "fs = 48000\n",
    "duration_sec = 30\n",
    "signal = generate_signal_random(fs, duration_sec)\n",
    "signal = linear_increase(signal, -10, 50)\n",
    "\n",
    "IPython.display.Audio(signal, rate=fs, normalize=True)"
   ]
  },
  {
   "cell_type": "code",
   "execution_count": null,
   "metadata": {},
   "outputs": [],
   "source": []
  }
 ],
 "metadata": {
  "kernelspec": {
   "display_name": "Python 3",
   "language": "python",
   "name": "python3"
  },
  "language_info": {
   "codemirror_mode": {
    "name": "ipython",
    "version": 3
   },
   "file_extension": ".py",
   "mimetype": "text/x-python",
   "name": "python",
   "nbconvert_exporter": "python",
   "pygments_lexer": "ipython3",
   "version": "3.6.9"
  }
 },
 "nbformat": 4,
 "nbformat_minor": 4
}
